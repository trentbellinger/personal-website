{
  "cells": [
    {
      "cell_type": "markdown",
      "metadata": {},
      "source": [
        "---\n",
        "title: Baseball Hit Probability Model\n",
        "subtitle: Subtitle 1\n",
        "# image: images/\n",
        "---\n",
        "\n",
        "```{include}\n",
        "files/HitPredictionModel.html\n",
        "```"
      ],
      "id": "5dd33443"
    }
  ],
  "metadata": {
    "kernelspec": {
      "display_name": "Python 3",
      "language": "python",
      "name": "python3"
    }
  },
  "nbformat": 4,
  "nbformat_minor": 5
}